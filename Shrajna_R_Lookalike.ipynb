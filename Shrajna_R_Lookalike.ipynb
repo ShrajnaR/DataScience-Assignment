{
 "cells": [
  {
   "cell_type": "code",
   "execution_count": 2,
   "id": "e7191b87",
   "metadata": {},
   "outputs": [],
   "source": [
    "import pandas as pd\n",
    "import numpy as np\n",
    "from sklearn.metrics.pairwise import cosine_similarity\n",
    "\n",
    "customers = pd.read_csv(\"C:/Users/dell/Downloads/Customerss.csv\")\n",
    "products = pd.read_csv(\"C:/Users/dell/Downloads/Products.csv\")\n",
    "transactions = pd.read_csv(\"C:/Users/dell/Downloads/Transactions.csv\")\n",
    "\n",
    "merged_data = transactions.merge(customers, on='CustomerID').merge(products, on='ProductID')\n",
    "\n",
    "if 'Price_x' in merged_data.columns:\n",
    "    merged_data.rename(columns={'Price_x': 'Price'}, inplace=True)\n",
    "elif 'Price_y' in merged_data.columns:\n",
    "    merged_data.rename(columns={'Price_y': 'Price'}, inplace=True)\n",
    "\n",
    "customer_features = merged_data.groupby(\"CustomerID\").agg({\n",
    "    \"TotalValue\": \"sum\",\n",
    "    \"TransactionID\": \"count\",\n",
    "    \"Price\": \"mean\"\n",
    "}).rename(columns={\n",
    "    \"TotalValue\": \"TotalSpent\",\n",
    "    \"TransactionID\": \"TransactionCount\",\n",
    "    \"Price\": \"AvgPrice\"\n",
    "})\n",
    "\n",
    "similarity_matrix = cosine_similarity(customer_features)\n",
    "\n",
    "similarity_df = pd.DataFrame(similarity_matrix, index=customer_features.index, columns=customer_features.index)\n",
    "\n",
    "lookalike_dict = {}\n",
    "for cust_id in customer_features.index[:20]: \n",
    "    similar_customers = similarity_df[cust_id].nlargest(4).iloc[1:4]  \n",
    "    lookalike_dict[cust_id] = list(zip(similar_customers.index, similar_customers.values))\n",
    "\n",
    "lookalike_df = pd.DataFrame.from_dict(lookalike_dict, orient='index')\n",
    "lookalike_df.to_csv(\"ShrajnaR_Lookalike.csv\", index=True)\n"
   ]
  },
  {
   "cell_type": "code",
   "execution_count": null,
   "id": "96339f8d",
   "metadata": {},
   "outputs": [],
   "source": []
  }
 ],
 "metadata": {
  "kernelspec": {
   "display_name": "Python 3 (ipykernel)",
   "language": "python",
   "name": "python3"
  },
  "language_info": {
   "codemirror_mode": {
    "name": "ipython",
    "version": 3
   },
   "file_extension": ".py",
   "mimetype": "text/x-python",
   "name": "python",
   "nbconvert_exporter": "python",
   "pygments_lexer": "ipython3",
   "version": "3.11.5"
  }
 },
 "nbformat": 4,
 "nbformat_minor": 5
}
